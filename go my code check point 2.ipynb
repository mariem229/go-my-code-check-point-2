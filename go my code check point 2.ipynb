{
 "cells": [
  {
   "cell_type": "code",
   "execution_count": 11,
   "id": "fleet-thomas",
   "metadata": {},
   "outputs": [],
   "source": [
    "import numpy as np \n",
    "import pandas as pd"
   ]
  },
  {
   "cell_type": "code",
   "execution_count": 31,
   "id": "fewer-manual",
   "metadata": {},
   "outputs": [
    {
     "name": "stdout",
     "output_type": "stream",
     "text": [
      "[2002, 2009, 2016, 2023, 2037, 2044, 2051, 2058, 2072, 2079, 2086, 2093, 2107, 2114, 2121, 2128, 2142, 2149, 2156, 2163, 2177, 2184, 2191, 2198, 2212, 2219, 2226, 2233, 2247, 2254, 2261, 2268, 2282, 2289, 2296, 2303, 2317, 2324, 2331, 2338, 2352, 2359, 2366, 2373, 2387, 2394, 2401, 2408, 2422, 2429, 2436, 2443, 2457, 2464, 2471, 2478, 2492, 2499, 2506, 2513, 2527, 2534, 2541, 2548, 2562, 2569, 2576, 2583, 2597, 2604, 2611, 2618, 2632, 2639, 2646, 2653, 2667, 2674, 2681, 2688, 2702, 2709, 2716, 2723, 2737, 2744, 2751, 2758, 2772, 2779, 2786, 2793, 2807, 2814, 2821, 2828, 2842, 2849, 2856, 2863, 2877, 2884, 2891, 2898, 2912, 2919, 2926, 2933, 2947, 2954, 2961, 2968, 2982, 2989, 2996, 3003, 3017, 3024, 3031, 3038, 3052, 3059, 3066, 3073, 3087, 3094, 3101, 3108, 3122, 3129, 3136, 3143, 3157, 3164, 3171, 3178, 3192, 3199]\n"
     ]
    }
   ],
   "source": [
    "#exercice1\n",
    "nl=[]\n",
    "resultat=2000\n",
    "for i in range(2000, 3200,1):\n",
    "    if (i%7==0) and (i %5!=0):\n",
    "        resultat= i\n",
    "        nl.append(resultat)\n",
    "print (nl)"
   ]
  },
  {
   "cell_type": "code",
   "execution_count": 32,
   "id": "heated-sauce",
   "metadata": {},
   "outputs": [],
   "source": [
    "#exercice2\n",
    "def factorielle(n):\n",
    "    if n == 0 : \n",
    "        return 1\n",
    "    else : \n",
    "        return n * factorielle (n-1)"
   ]
  },
  {
   "cell_type": "code",
   "execution_count": 34,
   "id": "tender-techno",
   "metadata": {},
   "outputs": [
    {
     "data": {
      "text/plain": [
       "120"
      ]
     },
     "execution_count": 34,
     "metadata": {},
     "output_type": "execute_result"
    }
   ],
   "source": [
    "factorielle(5)"
   ]
  },
  {
   "cell_type": "code",
   "execution_count": 37,
   "id": "referenced-charity",
   "metadata": {},
   "outputs": [],
   "source": [
    "#exercice 3\n",
    "def add(n):\n",
    "    dict={i:i*i for i in range (1,n+1)}\n",
    "    print (dict)\n",
    "    "
   ]
  },
  {
   "cell_type": "code",
   "execution_count": 39,
   "id": "severe-compound",
   "metadata": {},
   "outputs": [
    {
     "name": "stdout",
     "output_type": "stream",
     "text": [
      "{1: 1, 2: 4, 3: 9, 4: 16, 5: 25, 6: 36, 7: 49, 8: 64}\n"
     ]
    }
   ],
   "source": [
    "add(8)"
   ]
  },
  {
   "cell_type": "code",
   "execution_count": 44,
   "id": "utility-spanking",
   "metadata": {},
   "outputs": [],
   "source": [
    "#exercice 4 \n",
    "def missing_char(str, n):\n",
    "  front = str[:n]   # up to but not including n\n",
    "  back = str[n+1:]  # n+1 through end of string\n",
    "  return front + back"
   ]
  },
  {
   "cell_type": "code",
   "execution_count": 58,
   "id": "electrical-synthetic",
   "metadata": {},
   "outputs": [
    {
     "data": {
      "text/plain": [
       "'kien'"
      ]
     },
     "execution_count": 58,
     "metadata": {},
     "output_type": "execute_result"
    }
   ],
   "source": [
    "missing_char('kitten',3)"
   ]
  },
  {
   "cell_type": "code",
   "execution_count": 63,
   "id": "perceived-running",
   "metadata": {},
   "outputs": [],
   "source": [
    "def missing_char(str, n):\n",
    "  return str.replace(str[n], \"\",1) "
   ]
  },
  {
   "cell_type": "code",
   "execution_count": 65,
   "id": "proper-procurement",
   "metadata": {},
   "outputs": [
    {
     "data": {
      "text/plain": [
       "'kiten'"
      ]
     },
     "execution_count": 65,
     "metadata": {},
     "output_type": "execute_result"
    }
   ],
   "source": [
    "missing_char('kitten', 2)"
   ]
  },
  {
   "cell_type": "code",
   "execution_count": 66,
   "id": "horizontal-cooper",
   "metadata": {},
   "outputs": [
    {
     "name": "stdout",
     "output_type": "stream",
     "text": [
      "[[0 1]\n",
      " [2 3]\n",
      " [4 5]]\n",
      "[[0, 1], [2, 3], [4, 5]]\n"
     ]
    }
   ],
   "source": [
    "#exercice5\n",
    "import numpy as np \n",
    "MM=np.array((((0,1),(2,3),(4,5))))\n",
    "print(MM)\n",
    "MMM=MM.tolist()\n",
    "print(MMM)"
   ]
  },
  {
   "cell_type": "code",
   "execution_count": 67,
   "id": "broad-hunger",
   "metadata": {},
   "outputs": [
    {
     "name": "stdout",
     "output_type": "stream",
     "text": [
      "[[ 1. -1.]\n",
      " [-1.  1.]]\n"
     ]
    }
   ],
   "source": [
    "#exercice 6 \n",
    "A=np.array((0,1,2))\n",
    "B=np.array((2,1,0))\n",
    "C=np.cov(A,B)\n",
    "print(C)"
   ]
  },
  {
   "cell_type": "code",
   "execution_count": 68,
   "id": "narrative-supplement",
   "metadata": {},
   "outputs": [
    {
     "name": "stdout",
     "output_type": "stream",
     "text": [
      "[17, 22, 24]\n"
     ]
    }
   ],
   "source": [
    "#Exercice 7 \n",
    "import math \n",
    "numbers = 100,150,180\n",
    "\n",
    "result_list = []\n",
    "for D in numbers:\n",
    "    Q = round(math.sqrt(2 * 50 *int(D / 30) ))\n",
    "    result_list.append(Q)\n",
    "print(result_list)"
   ]
  },
  {
   "cell_type": "code",
   "execution_count": null,
   "id": "amazing-complexity",
   "metadata": {},
   "outputs": [],
   "source": []
  }
 ],
 "metadata": {
  "kernelspec": {
   "display_name": "Python 3",
   "language": "python",
   "name": "python3"
  },
  "language_info": {
   "codemirror_mode": {
    "name": "ipython",
    "version": 3
   },
   "file_extension": ".py",
   "mimetype": "text/x-python",
   "name": "python",
   "nbconvert_exporter": "python",
   "pygments_lexer": "ipython3",
   "version": "3.8.3"
  }
 },
 "nbformat": 4,
 "nbformat_minor": 5
}
